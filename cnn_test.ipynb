{
  "nbformat": 4,
  "nbformat_minor": 0,
  "metadata": {
    "colab": {
      "name": "cnn_test.ipynb",
      "provenance": [],
      "collapsed_sections": [],
      "authorship_tag": "ABX9TyM18TPEGswK/eJgJo9RodS/"
    },
    "kernelspec": {
      "name": "python3",
      "display_name": "Python 3"
    },
    "language_info": {
      "name": "python"
    }
  },
  "cells": [
    {
      "cell_type": "code",
      "execution_count": null,
      "metadata": {
        "id": "4VaLXyU_DLGl"
      },
      "outputs": [],
      "source": [
        "import matplotlib.pyplot as plt\n",
        "import numpy as np\n",
        "import os\n",
        "import PIL\n",
        "import tensorflow as tf\n",
        "\n",
        "from tensorflow import keras\n",
        "from tensorflow.keras import layers\n",
        "from tensorflow.keras.models import Sequential\n",
        "from google.colab import files\n",
        "from google.colab import drive\n",
        "import pathlib"
      ]
    },
    {
      "cell_type": "code",
      "source": [
        "import random\n",
        "\n",
        "def seed_everything(seed=0):\n",
        "    random.seed(seed)\n",
        "    np.random.seed(seed)\n",
        "    tf.random.set_seed(seed)\n",
        "    os.environ['PYTHONHASHED'] = str(seed)\n",
        "    os.environ['TF_DETERMINISTIC_OPS'] = \"1\""
      ],
      "metadata": {
        "id": "70vWl6KPXNY0"
      },
      "execution_count": null,
      "outputs": []
    },
    {
      "cell_type": "code",
      "source": [
        "def upload_drive():\n",
        "  drive.mount('/content/drive')\n",
        "\n",
        "upload_drive()"
      ],
      "metadata": {
        "id": "9N5ixzGsDaT2"
      },
      "execution_count": null,
      "outputs": []
    },
    {
      "cell_type": "code",
      "source": [
        "!cp '/content/drive/My Drive/AARD/idb1.zip' ."
      ],
      "metadata": {
        "id": "fZTR1jrGDkCy"
      },
      "execution_count": null,
      "outputs": []
    },
    {
      "cell_type": "code",
      "source": [
        "!unzip idb1.zip\n",
        "!rm -rf __MACOSX/\n",
        "!mkdir -p idb1small/ds/neg\n",
        "!mkdir -p idb1small/ds/pos"
      ],
      "metadata": {
        "id": "TmYBwUi-DkFt"
      },
      "execution_count": null,
      "outputs": []
    },
    {
      "cell_type": "code",
      "source": [
        "TARGET_RATIO = 4/3\n",
        "TARGET_WIDTH = 1200\n",
        "TARGET_HEIGHT = int(TARGET_WIDTH/TARGET_RATIO)\n",
        "\n",
        "def resize_image(img, tw=TARGET_WIDTH, th=TARGET_HEIGHT): \n",
        "    w, h = img.size[0], img.size[1] \n",
        "    dw, dh = 0, 0 \n",
        "    tr = tw / th \n",
        "    if w / h > tr: \n",
        "        dw = w - h * tr \n",
        "    elif w / h < tr: \n",
        "        dh = h - w / tr \n",
        "    if dw > 0 or dh > 0: \n",
        "        img = img.crop((dw//2, dh // 2, w - dw // 2, h - dh // 2))\n",
        "\n",
        "    return img.resize((tw, th))\n",
        "\n",
        "def resize_all_images(from_dir: str, to_dir: str, width: int, height: int): \n",
        "    \"\"\"Resize all images from one directory and put result in another. \n",
        "       neg and pos should be the child directories of input dir. \n",
        "    \"\"\"\n",
        "    src_dir = pathlib.Path(from_dir)\n",
        "    tgt_dir = pathlib.Path(to_dir) \n",
        "    for src_img_path in src_dir.glob('*/*.jpg'): \n",
        "        print(f\"Resize image: {src_img_path}\") \n",
        "        img = tf.keras.utils.load_img(src_img_path) \n",
        "        resized_img = resize_image(img, tw=width, th=height) \n",
        "        tgt_img_path = (str(src_img_path)).replace(from_dir, to_dir) \n",
        "        resized_img.save(tgt_img_path)\n",
        "        print(f\"Image {src_img_path} is resized as {tgt_img_path} to size {width}/{height}\")"
      ],
      "metadata": {
        "id": "Xo-1Uu8cDkI1"
      },
      "execution_count": null,
      "outputs": []
    },
    {
      "cell_type": "code",
      "source": [
        "resize_all_images('idb1/ds', 'idb1small/ds', TARGET_WIDTH, TARGET_HEIGHT)"
      ],
      "metadata": {
        "id": "mqxbGBgiDkMJ"
      },
      "execution_count": null,
      "outputs": []
    },
    {
      "cell_type": "code",
      "source": [
        "!mkdir -p test_data/neg\n",
        "!mkdir -p test_data/pos\n",
        "\n",
        "test_dir = pathlib.Path('test_data')"
      ],
      "metadata": {
        "id": "8hjqqUsnEZpx"
      },
      "execution_count": null,
      "outputs": []
    },
    {
      "cell_type": "markdown",
      "source": [
        "#Load model from drive"
      ],
      "metadata": {
        "id": "WSyghaweNrQ7"
      }
    },
    {
      "cell_type": "code",
      "source": [
        "# upload the model\n",
        "model = tf.keras.models.load_model('/content/drive/My Drive/AARD/Saved_Models/all_model1')\n",
        "\n",
        "# Check its architecture\n",
        "model.summary()"
      ],
      "metadata": {
        "colab": {
          "base_uri": "https://localhost:8080/"
        },
        "id": "CqYtP5EuEZ0e",
        "outputId": "70b055c5-7b20-4209-8cbd-4202ce7aa523"
      },
      "execution_count": null,
      "outputs": [
        {
          "output_type": "stream",
          "name": "stdout",
          "text": [
            "Model: \"sequential_5\"\n",
            "_________________________________________________________________\n",
            " Layer (type)                Output Shape              Param #   \n",
            "=================================================================\n",
            " sequential_3 (Sequential)   (None, 900, 1200, 3)      0         \n",
            "                                                                 \n",
            " rescaling_5 (Rescaling)     (None, 900, 1200, 3)      0         \n",
            "                                                                 \n",
            " conv2d_12 (Conv2D)          (None, 900, 1200, 16)     448       \n",
            "                                                                 \n",
            " max_pooling2d_12 (MaxPoolin  (None, 450, 600, 16)     0         \n",
            " g2D)                                                            \n",
            "                                                                 \n",
            " conv2d_13 (Conv2D)          (None, 450, 600, 32)      4640      \n",
            "                                                                 \n",
            " max_pooling2d_13 (MaxPoolin  (None, 225, 300, 32)     0         \n",
            " g2D)                                                            \n",
            "                                                                 \n",
            " conv2d_14 (Conv2D)          (None, 225, 300, 64)      18496     \n",
            "                                                                 \n",
            " max_pooling2d_14 (MaxPoolin  (None, 112, 150, 64)     0         \n",
            " g2D)                                                            \n",
            "                                                                 \n",
            " dropout_6 (Dropout)         (None, 112, 150, 64)      0         \n",
            "                                                                 \n",
            " flatten_4 (Flatten)         (None, 1075200)           0         \n",
            "                                                                 \n",
            " dense_10 (Dense)            (None, 128)               137625728 \n",
            "                                                                 \n",
            " dropout_7 (Dropout)         (None, 128)               0         \n",
            "                                                                 \n",
            " dense_11 (Dense)            (None, 64)                8256      \n",
            "                                                                 \n",
            " dense_12 (Dense)            (None, 2)                 130       \n",
            "                                                                 \n",
            "=================================================================\n",
            "Total params: 137,657,698\n",
            "Trainable params: 137,657,698\n",
            "Non-trainable params: 0\n",
            "_________________________________________________________________\n"
          ]
        }
      ]
    },
    {
      "cell_type": "markdown",
      "source": [
        "#Create the test dataset"
      ],
      "metadata": {
        "id": "OoaSlEapON7N"
      }
    },
    {
      "cell_type": "code",
      "source": [
        "TARGET_RATIO = 4/3\n",
        "TARGET_WIDTH = 1200\n",
        "TARGET_HEIGHT = int(TARGET_WIDTH/TARGET_RATIO)\n",
        "\n",
        "batch_size = 32\n",
        "img_height = TARGET_HEIGHT\n",
        "img_width = TARGET_WIDTH"
      ],
      "metadata": {
        "id": "tBYcdat1EZ3u"
      },
      "execution_count": null,
      "outputs": []
    },
    {
      "cell_type": "code",
      "source": [
        "test_ds = tf.keras.utils.image_dataset_from_directory(\n",
        "  test_dir,\n",
        "  # validation_split=0.0002,\n",
        "  # subset=\"training\",\n",
        "  seed=123,\n",
        "  image_size=(img_height, img_width),\n",
        "  batch_size=batch_size)"
      ],
      "metadata": {
        "id": "s13nHS-KN_fr"
      },
      "execution_count": null,
      "outputs": []
    },
    {
      "cell_type": "code",
      "source": [
        "for img_data, img_label in test_ds.take(1000):\n",
        "    model.evaluate(img_data, img_label)"
      ],
      "metadata": {
        "id": "1YOv3C2xN_kx"
      },
      "execution_count": null,
      "outputs": []
    },
    {
      "cell_type": "markdown",
      "source": [
        "#Test data"
      ],
      "metadata": {
        "id": "fxyvs68qRSxG"
      }
    },
    {
      "cell_type": "code",
      "source": [
        "!mkdir -p aug_test_data/neg\n",
        "!mkdir -p aug_test_data/pos\n",
        "\n",
        "import math\n",
        "import pathlib\n",
        "from tensorflow.keras.preprocessing.image import load_img, save_img, img_to_array, array_to_img\n",
        "from skimage import transform\n",
        "\n",
        "def augment_image(src_dir: str, tgt_dir: str):\n",
        "    for img_file in pathlib.Path(src_dir).glob('*/*.jpg'):\n",
        "        img = load_img(img_file)\n",
        "        img_arr = img_to_array(img)\n",
        "        angles = list(range(-180, 180, 45))\n",
        "        for i, r in enumerate(angles):\n",
        "            # rotate\n",
        "            aug_image = transform.rotate(img_arr, angle=r, clip=False, mode='reflect')\n",
        "            # save\n",
        "            rotated_img_file = str(img_file).replace(src_dir, tgt_dir)\n",
        "            path_elems = list(rotated_img_file.split('/'))\n",
        "            path_elems[-1] = f\"r{r}_\" + path_elems[-1]\n",
        "            img_tgt_file = '/'.join(path_elems)\n",
        "            print(f\"Generate aug image: {img_tgt_file}\")\n",
        "            save_img(img_tgt_file, aug_image)"
      ],
      "metadata": {
        "id": "EQhVBfRgN_oy"
      },
      "execution_count": null,
      "outputs": []
    },
    {
      "cell_type": "code",
      "source": [
        "augment_image('test_data', 'aug_test_data')"
      ],
      "metadata": {
        "id": "2Yfd7mFtN_yw"
      },
      "execution_count": null,
      "outputs": []
    },
    {
      "cell_type": "code",
      "source": [
        "!cp aug_test_data/pos/r-180_Im062_1.jpg aug_test_data/neg/r-180_Im062_1.jpg"
      ],
      "metadata": {
        "id": "o7zRipAjbphq"
      },
      "execution_count": null,
      "outputs": []
    },
    {
      "cell_type": "code",
      "source": [
        "aug_test_ds = tf.keras.utils.image_dataset_from_directory(\n",
        "  'aug_test_data',\n",
        "  # validation_split=0.0002,\n",
        "  # subset=\"training\",\n",
        "  seed=123,\n",
        "  image_size=(img_height, img_width),\n",
        "  batch_size=200)"
      ],
      "metadata": {
        "colab": {
          "base_uri": "https://localhost:8080/"
        },
        "id": "KjrNQ4UlX0Ms",
        "outputId": "918e64bc-818f-4880-9e70-deb045743777"
      },
      "execution_count": null,
      "outputs": [
        {
          "output_type": "stream",
          "name": "stdout",
          "text": [
            "Found 129 files belonging to 2 classes.\n"
          ]
        }
      ]
    },
    {
      "cell_type": "code",
      "source": [
        "seed_everything(42)\n",
        "\n",
        "for img_data, img_label in aug_test_ds.take(10):\n",
        "    model.evaluate(img_data, img_label)"
      ],
      "metadata": {
        "colab": {
          "base_uri": "https://localhost:8080/"
        },
        "id": "TvY_YDJETMcz",
        "outputId": "69d2b7be-b4d2-43b2-8a2c-6cc7836d0a92"
      },
      "execution_count": null,
      "outputs": [
        {
          "output_type": "stream",
          "name": "stdout",
          "text": [
            "5/5 [==============================] - 38s 7s/step - loss: 0.3810 - accuracy: 0.9922\n"
          ]
        }
      ]
    }
  ]
}